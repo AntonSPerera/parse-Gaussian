{
 "cells": [
  {
   "cell_type": "code",
   "execution_count": 1,
   "metadata": {},
   "outputs": [],
   "source": [
    "import os\n",
    "import numpy as np\n",
    "import seaborn as sns\n",
    "import matplotlib.pyplot as plt\n",
    "import pandas as pd\n",
    "\n",
    "path = os.getcwd()\n",
    "\n",
    "os.chdir(path + \"/src\")\n",
    "\n",
    "from gauparser import *\n",
    "from gau_forcebalance import *\n",
    "\n",
    "os.chdir(path)\n",
    "\n",
    "# -------------------\n",
    "os.chdir(\"/home/matteo/Scrivania/jupiter-lab/parse_Gaussian/\")\n",
    "file = \"/home/matteo/Scrivania/jupiter-lab/parse_Gaussian/data/out_1.log\"\n",
    "\n",
    "extract_moment(file, './results/' + 'moment.txt')\n",
    "extract_forces(file, './results/' + 'force.xyz')\n",
    "extract_energy(file, './results/' + 'energy.txt', 'Counterpoise')\n",
    "extract_coord(file,  './results/' + 'coordinates.xyz')\n",
    "\n",
    "# --------------\n",
    "namefiles = {'moment':'moment.txt', \n",
    "             'force': 'force.xyz', \n",
    "             'energy':'energy.txt',\n",
    "             'coordinate':'coordinate.xyz'}\n",
    "\n",
    "os.chdir(path)\n",
    "\n",
    "# gau = extract_all(file, namefiles, ener_flag='Counterpoise')\n"
   ]
  },
  {
   "cell_type": "code",
   "execution_count": 2,
   "metadata": {},
   "outputs": [],
   "source": [
    "os.chdir(path)\n",
    "Gau_Forcebalance(file, ener_flag='BSSE', job=0)"
   ]
  },
  {
   "cell_type": "code",
   "execution_count": null,
   "metadata": {},
   "outputs": [],
   "source": []
  },
  {
   "cell_type": "code",
   "execution_count": 3,
   "metadata": {},
   "outputs": [],
   "source": [
    "def walk_Gau_Forcebalance(path):\n",
    "    \n",
    "    job = 0\n",
    "    for filename in os.listdir(path):\n",
    "        if filename[-4:]=='.log':\n",
    "                Gau_Forcebalance(path + '/'+ filename, ener_flag='BSSE', job=job)\n",
    "                job +=1"
   ]
  },
  {
   "cell_type": "code",
   "execution_count": 4,
   "metadata": {},
   "outputs": [],
   "source": [
    "walk_Gau_Forcebalance(\"/home/matteo/Scrivania/jupiter-lab/parse_Gaussian/data\")"
   ]
  },
  {
   "cell_type": "code",
   "execution_count": null,
   "metadata": {},
   "outputs": [],
   "source": []
  }
 ],
 "metadata": {
  "kernelspec": {
   "display_name": "Python 3",
   "language": "python",
   "name": "python3"
  },
  "language_info": {
   "codemirror_mode": {
    "name": "ipython",
    "version": 3
   },
   "file_extension": ".py",
   "mimetype": "text/x-python",
   "name": "python",
   "nbconvert_exporter": "python",
   "pygments_lexer": "ipython3",
   "version": "3.7.3"
  }
 },
 "nbformat": 4,
 "nbformat_minor": 2
}
