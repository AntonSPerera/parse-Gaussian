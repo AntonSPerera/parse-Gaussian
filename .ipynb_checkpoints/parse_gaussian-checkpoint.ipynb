{
 "cells": [
  {
   "cell_type": "code",
   "execution_count": 1,
   "metadata": {},
   "outputs": [],
   "source": [
    "import os\n",
    "import numpy as np\n",
    "import seaborn as sns\n",
    "import matplotlib.pyplot as plt\n",
    "import pandas as pd\n",
    "\n",
    "path = os.getcwd()\n",
    "\n",
    "os.chdir(path + \"/src\")\n",
    "\n",
    "from gauparser import *\n",
    "\n",
    "os.chdir(path)\n",
    "\n",
    "os.chdir(\"/home/matteopeluso/Scrivania/jupyter-lab/parse_Gaussian/\")\n",
    "\n",
    "file = \"data/out_1.log\"\n",
    "\n",
    "extract_moment(file, './results/' + 'moment.txt')\n",
    "extract_forces(file, './results/' + 'force.xyz')\n",
    "extract_energy(file, './results/' + 'energy.txt', 'Counterpoise')\n",
    "extract_coord(file,  './results/' + 'coordinates.xyz')\n",
    "\n"
   ]
  },
  {
   "cell_type": "code",
   "execution_count": null,
   "metadata": {},
   "outputs": [],
   "source": []
  }
 ],
 "metadata": {
  "kernelspec": {
   "display_name": "Python 3",
   "language": "python",
   "name": "python3"
  },
  "language_info": {
   "codemirror_mode": {
    "name": "ipython",
    "version": 3
   },
   "file_extension": ".py",
   "mimetype": "text/x-python",
   "name": "python",
   "nbconvert_exporter": "python",
   "pygments_lexer": "ipython3",
   "version": "3.7.0"
  }
 },
 "nbformat": 4,
 "nbformat_minor": 2
}
